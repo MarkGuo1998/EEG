{
 "cells": [
  {
   "cell_type": "markdown",
   "metadata": {},
   "source": [
    "### Load data"
   ]
  },
  {
   "cell_type": "code",
   "execution_count": 1,
   "metadata": {},
   "outputs": [],
   "source": [
    "import numpy as np\n",
    "\n",
    "X_test = np.load(\"X_test.npy\")\n",
    "y_test = np.load(\"y_test.npy\")\n",
    "person_train_valid = np.load(\"person_train_valid.npy\")\n",
    "X_train_valid = np.load(\"X_train_valid.npy\")\n",
    "y_train_valid = np.load(\"y_train_valid.npy\")\n",
    "person_test = np.load(\"person_test.npy\")"
   ]
  },
  {
   "cell_type": "markdown",
   "metadata": {},
   "source": [
    "### Shape of data"
   ]
  },
  {
   "cell_type": "code",
   "execution_count": 2,
   "metadata": {},
   "outputs": [
    {
     "name": "stdout",
     "output_type": "stream",
     "text": [
      "Training/Valid data shape: (2115, 22, 1000)\n",
      "Test data shape: (443, 22, 1000)\n",
      "Training/Valid target shape: (2115,)\n",
      "Test target shape: (443,)\n",
      "Person train/valid shape: (2115, 1)\n",
      "Person test shape: (443, 1)\n"
     ]
    }
   ],
   "source": [
    "print ('Training/Valid data shape: {}'.format(X_train_valid.shape))\n",
    "print ('Test data shape: {}'.format(X_test.shape))\n",
    "print ('Training/Valid target shape: {}'.format(y_train_valid.shape))\n",
    "print ('Test target shape: {}'.format(y_test.shape))\n",
    "print ('Person train/valid shape: {}'.format(person_train_valid.shape))\n",
    "print ('Person test shape: {}'.format(person_test.shape))"
   ]
  },
  {
   "cell_type": "markdown",
   "metadata": {},
   "source": [
    "### Visualization"
   ]
  },
  {
   "cell_type": "code",
   "execution_count": 3,
   "metadata": {},
   "outputs": [],
   "source": [
    "import matplotlib.pyplot as plt"
   ]
  },
  {
   "cell_type": "code",
   "execution_count": 4,
   "metadata": {},
   "outputs": [
    {
     "name": "stdout",
     "output_type": "stream",
     "text": [
      "769\n"
     ]
    },
    {
     "data": {
      "image/png": "[encoded data removed]",
      "text/plain": [
       "<Figure size 1200x800 with 1 Axes>"
      ]
     },
     "metadata": {},
     "output_type": "display_data"
    }
   ],
   "source": [
    "fig=plt.figure(figsize=(12,8), dpi= 100, facecolor='w', edgecolor='k')\n",
    "# for i in range(2115):\n",
    "\n",
    "i=3\n",
    "plt.imshow(X_train_valid[i, :, :100])\n",
    "print(y_train_valid[i])"
   ]
  },
  {
   "cell_type": "markdown",
   "metadata": {},
   "source": [
    "### Model"
   ]
  },
  {
   "cell_type": "code",
   "execution_count": 5,
   "metadata": {},
   "outputs": [],
   "source": [
    "import os\n",
    "os.environ['KMP_DUPLICATE_LIB_OK']='True'\n",
    "import torch\n",
    "import torch.nn as nn\n",
    "import torch.nn.functional as F"
   ]
  },
  {
   "cell_type": "markdown",
   "metadata": {},
   "source": [
    "### This is the best model till now. 3 conv, 1 FC"
   ]
  },
  {
   "cell_type": "code",
   "execution_count": 39,
   "metadata": {},
   "outputs": [],
   "source": [
    "class Net(nn.Module):\n",
    "\n",
    "    def __init__(self, params):\n",
    "        \"\"\"\n",
    "        We define a network based on the parameter to predict whether the slice is a seizure. The current models are:\n",
    "        - base: flatten the matrix and apply a neural net with one hidden layer\n",
    "        - conv: apply a standard vision neural net of 3 convolutional layers (filters, batch norm, pool, relu)\n",
    "                and then flatten and apply two fully connected layers with batch norm and dropout\n",
    "        - lstm: a\n",
    "\n",
    "        Args:\n",
    "            params: (Params) contains num_channels\n",
    "        \"\"\"\n",
    "        super(Net, self).__init__()\n",
    "        self.type = params[\"type\"]\n",
    "\n",
    "        if self.type == \"reg\":\n",
    "            self.fc = nn.Linear(22 * 1000, 1)\n",
    "\n",
    "        if self.type == \"conv\":\n",
    "            self.num_channels = params[\"num_channels\"]\n",
    "            # each of the convolution layers below have the arguments (input_channels, output_channels, filter_size,\n",
    "            # stride, padding). We also include batch normalization layers that help stabilise training.\n",
    "            self.conv1 = nn.Conv2d(1, self.num_channels, 3, stride=1, padding=1)\n",
    "            self.bn1 = nn.BatchNorm2d(self.num_channels)\n",
    "            self.conv2 = nn.Conv2d(self.num_channels, self.num_channels*2, 3, stride=1, padding=1)\n",
    "            self.bn2 = nn.BatchNorm2d(self.num_channels*2)\n",
    "            self.conv3 = nn.Conv2d(self.num_channels*2, self.num_channels*4, 3, stride=1, padding=1)\n",
    "            self.bn3 = nn.BatchNorm2d(self.num_channels*4)\n",
    "\n",
    "            # 2 fully connected layers to transform the output of the convolution layers to the final output\n",
    "            self.fc1 = nn.Linear(125*2*self.num_channels*4, self.num_channels*4)\n",
    "            self.fcbn1 = nn.BatchNorm1d(self.num_channels*4)\n",
    "            self.fc2 = nn.Linear(self.num_channels*4, 4)\n",
    "            self.dropout_rate = params[\"dropout_rate\"]\n",
    "        \n",
    "        elif self.type == \"base\":\n",
    "            # simple base model\n",
    "            self.fc_1 = nn.Linear(22 * 1000, 1000)\n",
    "            self.fc_2 = nn.Linear(1000, 30)\n",
    "            self.fc_3 = nn.Linear(30, 4)\n",
    "\n",
    "        elif self.type == \"lstm\":\n",
    "            # input_size, hidden_size, num_layers\n",
    "            self.lstm = nn.LSTM(25, 20, 2)\n",
    "            # the fully connected layer transforms the output to give the final output layer\n",
    "            self.fc = nn.Linear(20, 1)\n",
    "            if params.bidirectional == 1:\n",
    "                self.lstm = nn.LSTM(25, 20, 2, bidirectional=True)\n",
    "                self.fc = nn.Linear(40, 1)\n",
    "\n",
    "        if self.type == \"deepconv\":\n",
    "            # in_channels, out_channels, kernel_size\n",
    "            self.conv1 = nn.Conv2d(1, 25, (1,10), stride=1, padding=(0, 1))\n",
    "            self.conv2 = nn.Conv2d(25, 50, (1,10), stride=1, padding=(0, 1))\n",
    "            self.conv3 = nn.Conv2d(50, 100, (1,10), stride=1, padding=(0, 1))\n",
    "            self.conv4 = nn.Conv2d(100, 200, (1,10), stride=1, padding=(0, 1))\n",
    "            self.fc1 = nn.Linear(200*8*22, 400)\n",
    "            self.fcbn1 = nn.BatchNorm1d(400)\n",
    "            self.fc2 = nn.Linear(400, 4)\n",
    "            self.dropout_rate = params[\"dropout_rate\"]\n",
    "\n",
    "        if self.type == \"deepconv_nodo\":\n",
    "            # in_channels, out_channels, kernel_size\n",
    "            self.conv1 = nn.Conv2d(1, 25, (1,10), stride=1, padding=1)\n",
    "            self.conv2 = nn.Conv2d(25, 50, (1,10), stride=1, padding=1)\n",
    "            self.conv3 = nn.Conv2d(50, 100, (1,10), stride=1, padding=1)\n",
    "            self.conv4 = nn.Conv2d(100, 200, (1,10), stride=1, padding=1)\n",
    "            self.conv5 = nn.Conv2d(200, 400, (1,10), stride=1, padding=1)\n",
    "            self.fc1 = nn.Linear(400*4*35, 400)\n",
    "            self.fcbn1 = nn.BatchNorm1d(400)\n",
    "            self.fc2 = nn.Linear(400, 4)\n",
    "\n",
    "        if self.type == \"deeplstm\":\n",
    "            self.lstm = nn.LSTM(25, 20, 2, bidirectional=True)\n",
    "            self.fc1 = nn.Linear(40, 10)\n",
    "            self.fcbn1 = nn.BatchNorm1d(10)\n",
    "            self.fc2 = nn.Linear(10, 1)\n",
    "\n",
    "\n",
    "\n",
    "            \n",
    "\n",
    "    def forward(self, s):\n",
    "        \"\"\"\n",
    "        This function defines how we use the components of our network to operate on an input batch.\n",
    "        Args:\n",
    "            s: (Variable) contains a batch of images, of dimension batch_size x 2000 x 5.\n",
    "\n",
    "        Returns:\n",
    "            out: (Variable) dimension batch_size indicating probability of a seizure.\n",
    "\n",
    "        Note: the dimensions after each step are provided\n",
    "        \"\"\"\n",
    "        if (self.type == \"reg\"):\n",
    "            s = s.view(-1, 22 * 1000)\n",
    "            s = self.fc(s)\n",
    "            return F.sigmoid(s)\n",
    "\n",
    "        if (self.type == \"conv\"):\n",
    "            # we apply the convolution layers, followed by batch normalisation, maxpool and relu x 3\n",
    "            s = s.unsqueeze(1)                             # -> batch_size x 1 x 22 x 1000\n",
    "            s = self.bn1(self.conv1(s))                    # batch_size x num_channels x 22 x 1000\n",
    "            s = F.relu(F.max_pool2d(s, 2))                 # batch_size x num_channels x 11 x 500\n",
    "            s = self.bn2(self.conv2(s))                    # batch_size x num_channels*2 x 11 x 500 \n",
    "            s = F.relu(F.max_pool2d(s, 2))                 # batch_size x num_channels*2 x 5 x 250 \n",
    "            s = self.bn3(self.conv3(s))                    # batch_size x num_channels*4 x 250 x 5\n",
    "            s = F.relu(F.max_pool2d(s, 2))                 # batch_size x num_channels*4 x 125 x 2\n",
    "\n",
    "            # flatten the output for each image\n",
    "            s = s.view(-1, 125*2*self.num_channels*4)           # batch_size x 125*2*num_channels*4\n",
    "            # apply 2 fully connected layers with dropout\n",
    "            s = F.dropout(F.relu(self.fcbn1(self.fc1(s))),\n",
    "                p=self.dropout_rate, training=self.training)    # batch_size x self.num_channels*4\n",
    "            s = self.fc2(s)                                     # batch_size x 4\n",
    "            return F.sigmoid(s)\n",
    "\n",
    "        elif (self.type == \"base\"):\n",
    "            s = s.view(-1, 22 * 1000)\n",
    "            s = F.relu(self.fc_1(s))\n",
    "            s = F.relu(self.fc_2(s))\n",
    "            s = self.fc_3(s)\n",
    "            return F.sigmoid(s)\n",
    "\n",
    "        elif (self.type == \"lstm\"):\n",
    "            s = s.transpose(0, 1)\n",
    "            # Forward propagate RNN\n",
    "            out, _ = self.lstm(s)  \n",
    "            # Decode hidden state of last time step (seq_len, batch, hidden_size * num_directions)\n",
    "            last_out = out[-1,:,:]\n",
    "            out = self.fc(last_out)  \n",
    "            return F.sigmoid(out)\n",
    "\n",
    "        elif (self.type == \"deeplstm\"):\n",
    "            s = s.transpose(0, 1)\n",
    "            # Forward propagate RNN\n",
    "            out, hidden = self.lstm(s)  \n",
    "            # Decode hidden state of last time step (seq_len, batch, hidden_size * num_directions)\n",
    "            s = F.relu(F.max_pool1d(hidden[0], 2))\n",
    "            s = s.transpose(0, 1)\n",
    "            s = s.contiguous()\n",
    "            s = s.view(-1, 4 * 10)\n",
    "            s = F.relu(self.fcbn1(self.fc1(s)))\n",
    "            s = self.fc2(s)  \n",
    "            return F.sigmoid(s)\n",
    "\n",
    "        elif (self.type == \"deepconv\"):\n",
    "            s = s.unsqueeze(1)                                   # -> batch_size x 1 x 22 x 1000\n",
    "            s = F.elu(self.conv1(s))                             # batch_size x 25 x 22 x 1000\n",
    "            s = F.max_pool2d(s, (1, 3))                          # batch_size x 25 x 22 x 331\n",
    "            s = F.elu(self.conv2(s))                             # batch_size x 50 x 22 x 331 \n",
    "            s = F.max_pool2d(s, (1, 3))                          # batch_size x 50 x 22 x 108 \n",
    "            s = F.elu(self.conv3(s))                             # batch_size x 100 x 22 x 108\n",
    "            s = F.max_pool2d(s, (1, 3))                          # batch_size x 100 x 22 x 33\n",
    "            s = F.elu(self.conv4(s))                             # batch_size x 200 x 22 x 33 \n",
    "            s = F.max_pool2d(s, (1, 3))                          # batch_size x 200 x 22 x 8 \n",
    "            s = s.contiguous()\n",
    "#             print(s.shape)\n",
    "            s = s.view(-1, 200*8*22)\n",
    "            s = F.dropout(F.relu(self.fcbn1(self.fc1(s))),p=self.dropout_rate, training=self.training)\n",
    "            s = self.fc2(s)\n",
    "            return F.sigmoid(s)\n",
    "\n",
    "        elif (self.type == \"deepconv_nodo\"):\n",
    "            s = s.unsqueeze(1)\n",
    "            s = F.relu(self.conv1(s))\n",
    "            s = F.max_pool2d(s, (3, 1))\n",
    "            s = F.relu(self.conv2(s))\n",
    "            s = F.max_pool2d(s, (3, 1))\n",
    "            s = F.relu(self.conv3(s))\n",
    "            s = F.max_pool2d(s, (3, 1))\n",
    "            s = F.relu(self.conv4(s))\n",
    "            s = F.max_pool2d(s, (3, 1))\n",
    "            s = F.relu(self.conv5(s))\n",
    "            s = F.max_pool2d(s, (3, 1))\n",
    "            s = s.contiguous()\n",
    "            s = s.view(-1, 400*4*35)\n",
    "            s = F.relu(self.fcbn1(self.fc1(s)))\n",
    "            s = self.fc2(s)\n",
    "            return F.sigmoid(s)\n",
    "\n",
    "\n",
    "\n",
    "\n",
    "# def f1score(outputs, labels):\n",
    "#     \"\"\"\n",
    "#     Compute the f1 score, given the outputs and labels for all slices.\n",
    "\n",
    "#     Args:\n",
    "#         outputs: (np.ndarray) dimension batch_size - sigmoid output of the model\n",
    "#         labels: (np.ndarray) dimension batch_size - each element is 0 (nonseizure) or 1 (seizure)\n",
    "\n",
    "#     Returns: (float) f1 score in [0,1]\n",
    "#     \"\"\"\n",
    "#     outputs_round = np.rint(outputs)\n",
    "#     labels = labels.reshape(outputs_round.shape)\n",
    "#     numerator = np.sum(np.logical_and(outputs_round == 1, outputs_round == labels))\n",
    "#     precision_denom = max(outputs_round.sum(), 1e-8)\n",
    "#     recall_denom = max(labels.sum(), 1e-8)\n",
    "#     precision = 1.0 * numerator / precision_denom\n",
    "#     recall = 1.0 * numerator / recall_denom\n",
    "#     if (precision + recall == 0):\n",
    "#         return 0\n",
    "#     f1 = 2 * (precision * recall) / (precision + recall)\n",
    "#     # import ipdb; ipdb.set_trace()\n",
    "#     return f1\n",
    "\n",
    "\n",
    "# maintain all metrics required in this dictionary- these are used in the training and evaluation loops\n",
    "# metrics = {\n",
    "#     'accuracy': accuracy,\n",
    "#     'f1': f1score,\n",
    "# }"
   ]
  },
  {
   "cell_type": "code",
   "execution_count": 40,
   "metadata": {},
   "outputs": [],
   "source": [
    "def loss_fn(outputs, labels):\n",
    "    \"\"\"\n",
    "    Compute the cross entropy loss given outputs and labels.\n",
    "\n",
    "    Args:\n",
    "        outputs: (Variable) dimension batch_size - output of the model\n",
    "        labels: (Variable) dimension batch_size, where each element is 0 or 1\n",
    "\n",
    "    Returns:\n",
    "        loss (Variable): cross entropy loss for all slices in the batch\n",
    "    \"\"\"\n",
    "    # ((1-labels.float()) * torch.log(1 - outputs) + labels.float() * torch.log(outputs)).mean()\n",
    "    loss = nn.CrossEntropyLoss()\n",
    "#     outputs = outputs.squeeze()\n",
    "    out = loss(outputs, labels)\n",
    "    return out\n",
    "\n",
    "\n",
    "def accuracy(outputs, labels):\n",
    "    \"\"\"\n",
    "    Compute the accuracy, given the outputs and labels for all slices.\n",
    "\n",
    "    Args:\n",
    "        outputs: (np.ndarray) dimension batch_size - sigmoid output of the model\n",
    "        labels: (np.ndarray) dimension batch_size - each element is 0 (nonseizure) or 1 (seizure)\n",
    "\n",
    "    Returns: (float) accuracy in [0,1]\n",
    "    \"\"\"\n",
    "    s = torch.exp(output)\n",
    "    accuracy = (labels == s.max(dim=1)[1]).type(torch.FloatTensor).mean().item()\n",
    "    return accuracy"
   ]
  },
  {
   "cell_type": "code",
   "execution_count": 35,
   "metadata": {},
   "outputs": [],
   "source": [
    "# modify this model by yourself?\n",
    "# class Net(nn.Module):\n",
    "#     def __init__(self):\n",
    "#         super(Net, self).__init__()\n",
    "#         self.conv1 = nn.Conv1d(1, 1, [1, 10]) \n",
    "#         self.conv2 = nn.Conv1d(1, 1, [1, 10]) \n",
    "#         self.conv3 = nn.Conv1d(1, 1, [1, 10]) \n",
    "#         self.fc1 = nn.Linear(32 * 22, 64)\n",
    "#         self.fc2 = nn.Linear(64, 4)\n",
    "#         self.m1 = nn.BatchNorm2d(1)\n",
    "#         self.m2 = nn.BatchNorm2d(1)\n",
    "#         self.m3 = nn.BatchNorm2d(1)\n",
    "#         self.d1 = nn.Dropout(p=0.5)\n",
    "#         self.d2 = nn.Dropout(p=0.5)\n",
    "#         self.d3 = nn.Dropout(p=0.5)\n",
    "\n",
    "#     def forward(self, x):\n",
    "#         x = F.max_pool2d(F.elu(self.d1(self.m1(self.conv1(x.unsqueeze(1))))), (1, 3)) # 1000 => 991 => 330\n",
    "#         x = F.max_pool2d(F.elu(self.d2(self.m2(self.conv2(x)))), (1, 3)) # 330 => 321 => 107\n",
    "#         x = F.max_pool2d(F.elu(self.d3(self.m3(self.conv3(x)))), (1, 3)) # 107 => 98 => 32\n",
    "#         x = x.view(-1, 32 * 22)\n",
    "#         x = F.relu(self.fc1(x))\n",
    "#         x = self.fc2(x)\n",
    "#         return x"
   ]
  },
  {
   "cell_type": "code",
   "execution_count": 36,
   "metadata": {},
   "outputs": [],
   "source": [
    "# change data / label into tensor\n",
    "\n",
    "x = torch.tensor(X_train_valid).float()\n",
    "y = torch.tensor(y_train_valid - 769, dtype=torch.int64)\n",
    "\n",
    "x_test_tensor = torch.tensor(X_test).float()\n",
    "y_test_tensor = torch.tensor(y_test - 769, dtype=torch.int64)\n",
    "\n",
    "\n",
    "# if you want onehot encode:\n",
    "\n",
    "# y_onehot = torch.FloatTensor(2115, 4)\n",
    "# y_onehot.zero_()\n",
    "# y_onehot.scatter_(1, y.view(-1, 1), 1)"
   ]
  },
  {
   "cell_type": "markdown",
   "metadata": {},
   "source": [
    "### Training process w/ Adam"
   ]
  },
  {
   "cell_type": "code",
   "execution_count": 41,
   "metadata": {},
   "outputs": [],
   "source": [
    "# params = {\"type\": \"conv\", \"num_channels\": 32, \"dropout_rate\": 0.8}\n",
    "params = {\"type\": \"deepconv\", \"dropout_rate\": 0.8}\n",
    "net = Net(params)"
   ]
  },
  {
   "cell_type": "code",
   "execution_count": 42,
   "metadata": {
    "scrolled": true
   },
   "outputs": [
    {
     "name": "stdout",
     "output_type": "stream",
     "text": [
      "epoch 0\n",
      "  training loss: 1.2869\n",
      "  test acc: 0.3454\n",
      "epoch 10\n",
      "  training loss: 0.8139\n",
      "  test acc: 0.4199\n",
      "epoch 20\n",
      "  training loss: 0.7649\n",
      "  test acc: 0.3973\n",
      "epoch 30\n",
      "  training loss: 0.7592\n",
      "  test acc: 0.3928\n",
      "epoch 40\n",
      "  training loss: 0.7547\n",
      "  test acc: 0.3815\n",
      "epoch 50\n",
      "  training loss: 0.7537\n",
      "  test acc: 0.4063\n",
      "epoch 60\n",
      "  training loss: 0.7539\n",
      "  test acc: 0.3679\n",
      "epoch 70\n",
      "  training loss: 0.7524\n",
      "  test acc: 0.4018\n",
      "epoch 80\n",
      "  training loss: 0.7585\n",
      "  test acc: 0.3950\n",
      "epoch 90\n",
      "  training loss: 0.7504\n",
      "  test acc: 0.4289\n",
      "epoch 100\n",
      "  training loss: 0.7490\n",
      "  test acc: 0.3770\n",
      "epoch 110\n",
      "  training loss: 0.7475\n",
      "  test acc: 0.3770\n",
      "epoch 120\n",
      "  training loss: 0.7493\n",
      "  test acc: 0.4018\n"
     ]
    },
    {
     "ename": "KeyboardInterrupt",
     "evalue": "",
     "output_type": "error",
     "traceback": [
      "\u001b[0;31m---------------------------------------------------------------------------\u001b[0m",
      "\u001b[0;31mKeyboardInterrupt\u001b[0m                         Traceback (most recent call last)",
      "\u001b[0;32m<ipython-input-42-1412cc260802>\u001b[0m in \u001b[0;36m<module>\u001b[0;34m\u001b[0m\n\u001b[1;32m     25\u001b[0m         \u001b[0mloss\u001b[0m \u001b[0;34m=\u001b[0m \u001b[0mloss_fn\u001b[0m\u001b[0;34m(\u001b[0m\u001b[0moutputs\u001b[0m\u001b[0;34m,\u001b[0m \u001b[0mbatch_y\u001b[0m\u001b[0;34m)\u001b[0m\u001b[0;34m\u001b[0m\u001b[0;34m\u001b[0m\u001b[0m\n\u001b[1;32m     26\u001b[0m \u001b[0;34m\u001b[0m\u001b[0m\n\u001b[0;32m---> 27\u001b[0;31m         \u001b[0mloss\u001b[0m\u001b[0;34m.\u001b[0m\u001b[0mbackward\u001b[0m\u001b[0;34m(\u001b[0m\u001b[0;34m)\u001b[0m\u001b[0;34m\u001b[0m\u001b[0;34m\u001b[0m\u001b[0m\n\u001b[0m\u001b[1;32m     28\u001b[0m         \u001b[0moptimizer\u001b[0m\u001b[0;34m.\u001b[0m\u001b[0mstep\u001b[0m\u001b[0;34m(\u001b[0m\u001b[0;34m)\u001b[0m\u001b[0;34m\u001b[0m\u001b[0;34m\u001b[0m\u001b[0m\n\u001b[1;32m     29\u001b[0m \u001b[0;34m\u001b[0m\u001b[0m\n",
      "\u001b[0;32m~/anaconda3/lib/python3.8/site-packages/torch/tensor.py\u001b[0m in \u001b[0;36mbackward\u001b[0;34m(self, gradient, retain_graph, create_graph)\u001b[0m\n\u001b[1;32m    219\u001b[0m                 \u001b[0mretain_graph\u001b[0m\u001b[0;34m=\u001b[0m\u001b[0mretain_graph\u001b[0m\u001b[0;34m,\u001b[0m\u001b[0;34m\u001b[0m\u001b[0;34m\u001b[0m\u001b[0m\n\u001b[1;32m    220\u001b[0m                 create_graph=create_graph)\n\u001b[0;32m--> 221\u001b[0;31m         \u001b[0mtorch\u001b[0m\u001b[0;34m.\u001b[0m\u001b[0mautograd\u001b[0m\u001b[0;34m.\u001b[0m\u001b[0mbackward\u001b[0m\u001b[0;34m(\u001b[0m\u001b[0mself\u001b[0m\u001b[0;34m,\u001b[0m \u001b[0mgradient\u001b[0m\u001b[0;34m,\u001b[0m \u001b[0mretain_graph\u001b[0m\u001b[0;34m,\u001b[0m \u001b[0mcreate_graph\u001b[0m\u001b[0;34m)\u001b[0m\u001b[0;34m\u001b[0m\u001b[0;34m\u001b[0m\u001b[0m\n\u001b[0m\u001b[1;32m    222\u001b[0m \u001b[0;34m\u001b[0m\u001b[0m\n\u001b[1;32m    223\u001b[0m     \u001b[0;32mdef\u001b[0m \u001b[0mregister_hook\u001b[0m\u001b[0;34m(\u001b[0m\u001b[0mself\u001b[0m\u001b[0;34m,\u001b[0m \u001b[0mhook\u001b[0m\u001b[0;34m)\u001b[0m\u001b[0;34m:\u001b[0m\u001b[0;34m\u001b[0m\u001b[0;34m\u001b[0m\u001b[0m\n",
      "\u001b[0;32m~/anaconda3/lib/python3.8/site-packages/torch/autograd/__init__.py\u001b[0m in \u001b[0;36mbackward\u001b[0;34m(tensors, grad_tensors, retain_graph, create_graph, grad_variables)\u001b[0m\n\u001b[1;32m    128\u001b[0m         \u001b[0mretain_graph\u001b[0m \u001b[0;34m=\u001b[0m \u001b[0mcreate_graph\u001b[0m\u001b[0;34m\u001b[0m\u001b[0;34m\u001b[0m\u001b[0m\n\u001b[1;32m    129\u001b[0m \u001b[0;34m\u001b[0m\u001b[0m\n\u001b[0;32m--> 130\u001b[0;31m     Variable._execution_engine.run_backward(\n\u001b[0m\u001b[1;32m    131\u001b[0m         \u001b[0mtensors\u001b[0m\u001b[0;34m,\u001b[0m \u001b[0mgrad_tensors_\u001b[0m\u001b[0;34m,\u001b[0m \u001b[0mretain_graph\u001b[0m\u001b[0;34m,\u001b[0m \u001b[0mcreate_graph\u001b[0m\u001b[0;34m,\u001b[0m\u001b[0;34m\u001b[0m\u001b[0;34m\u001b[0m\u001b[0m\n\u001b[1;32m    132\u001b[0m         allow_unreachable=True)  # allow_unreachable flag\n",
      "\u001b[0;31mKeyboardInterrupt\u001b[0m: "
     ]
    }
   ],
   "source": [
    "import torch.optim as optim\n",
    "\n",
    "\n",
    "# criterion = nn.CrossEntropyLoss()\n",
    "\n",
    "optimizer = optim.Adam(net.parameters(), lr=1e-5)\n",
    "\n",
    "\n",
    "n_epochs = 200\n",
    "batch_size = 32\n",
    "lam = 1e-2\n",
    "print_every = 10\n",
    "\n",
    "for epoch in range(n_epochs):\n",
    "\n",
    "    permutation = torch.randperm(x.size()[0])\n",
    "\n",
    "    for i in range(0, x.size()[0], batch_size):\n",
    "        optimizer.zero_grad()\n",
    "\n",
    "        indices = permutation[i:i+batch_size]\n",
    "        batch_x, batch_y = x[indices], y[indices]\n",
    "\n",
    "        outputs = net.forward(batch_x)\n",
    "        loss = loss_fn(outputs, batch_y)\n",
    "\n",
    "        loss.backward()\n",
    "        optimizer.step()\n",
    "        \n",
    "    if epoch % print_every == 0:\n",
    "        print(\"epoch %d\" %epoch)\n",
    "        \n",
    "        outputs = net.forward(x)\n",
    "        loss = loss_fn(outputs, y)\n",
    "        print(\"  training loss: %.4f\" %loss.item())\n",
    "        \n",
    "\n",
    "        output_test = net(x_test_tensor)\n",
    "        ps = torch.exp(output_test)\n",
    "        equality = (y_test_tensor.data == ps.max(dim=1)[1])\n",
    "        print(\"  test acc: %.4f\" %equality.type(torch.FloatTensor).mean().item())"
   ]
  },
  {
   "cell_type": "code",
   "execution_count": 20,
   "metadata": {},
   "outputs": [
    {
     "name": "stdout",
     "output_type": "stream",
     "text": [
      "torch.Size([32, 1, 22, 1000])\n",
      "torch.Size([32, 25, 22, 331])\n",
      "torch.Size([32, 50, 22, 108])\n",
      "torch.Size([32, 100, 22, 33])\n",
      "torch.Size([32, 200, 22, 8])\n",
      "torch.Size([32, 200, 22, 8])\n"
     ]
    }
   ],
   "source": [
    "conv1 = nn.Conv2d(1, 25, (1, 10), stride=1, padding=(0, 1))\n",
    "conv2 = nn.Conv2d(25, 50, (1, 10), stride=1, padding=(0, 1))\n",
    "conv3 = nn.Conv2d(50, 100, (1, 10), stride=1, padding=(0, 1))\n",
    "conv4 = nn.Conv2d(100, 200, (1, 10), stride=1, padding=(0, 1))\n",
    "# conv5 = nn.Conv2d(200, 400, (1, 10), stride=1, padding=(0, 1))\n",
    "fc1 = nn.Linear(400*4*22, 400)\n",
    "fcbn1 = nn.BatchNorm1d(400)\n",
    "fc2 = nn.Linear(400, 4)\n",
    "dropout_rate = params[\"dropout_rate\"]\n",
    "\n",
    "s = batch_x\n",
    "s = s.unsqueeze(1)                                   # -> batch_size x 1 x 1000 x 22\n",
    "print(s.shape)\n",
    "s = F.elu(conv1(s))                             # batch_size x 25 x 1000 x 22\n",
    "s = F.max_pool2d(s, (1, 3))      # batch_size x 25 x 334 x 22\n",
    "print(s.shape)\n",
    "s = F.elu(conv2(s))                             # batch_size x 50 x 334 x 22\n",
    "s = F.max_pool2d(s, (1, 3))                          # batch_size x 50 x 112 x 22\n",
    "print(s.shape)\n",
    "s = F.elu(conv3(s))                             # batch_size x 100 x 112 x 22\n",
    "s = F.max_pool2d(s, (1, 3))                          # batch_size x 100 x 38 x 22\n",
    "print(s.shape)\n",
    "s = F.elu(conv4(s))                             # batch_size x 200 x 38 x 22\n",
    "s = F.max_pool2d(s, (1, 3))                          # batch_size x 200 x 13 x 22\n",
    "print(s.shape)\n",
    "# s = F.elu(conv5(s))                             # batch_size x 400 x 13 x 22\n",
    "# print(s.shape)\n",
    "# s = F.max_pool2d(s, (1, 3))                          # batch_size x 400 x 4 x 22\n",
    "s = s.contiguous()\n",
    "print(s.shape)\n",
    "\n",
    "s = s.view(-1, 400*4*22)"
   ]
  },
  {
   "cell_type": "code",
   "execution_count": 30,
   "metadata": {},
   "outputs": [
    {
     "data": {
      "text/plain": [
       "torch.Size([32, 32, 11, 500])"
      ]
     },
     "execution_count": 30,
     "metadata": {},
     "output_type": "execute_result"
    }
   ],
   "source": [
    "s = batch_x\n",
    "s = s.unsqueeze(1)                                  # -> batch_size x 1 x 1000 x 22\n",
    "s = net.bn1(net.conv1(s))\n",
    "s = F.relu(F.max_pool2d(s, 2))\n",
    "s.shape"
   ]
  },
  {
   "cell_type": "code",
   "execution_count": 32,
   "metadata": {},
   "outputs": [
    {
     "data": {
      "text/plain": [
       "48000.0"
      ]
     },
     "execution_count": 32,
     "metadata": {},
     "output_type": "execute_result"
    }
   ],
   "source": [
    "1536000 / 32 "
   ]
  },
  {
   "cell_type": "code",
   "execution_count": 46,
   "metadata": {
    "scrolled": true
   },
   "outputs": [
    {
     "data": {
      "text/plain": [
       "<bound method Module.parameters of Net(\n",
       "  (conv1): Conv2d(1, 32, kernel_size=(3, 3), stride=(1, 1), padding=(1, 1))\n",
       "  (bn1): BatchNorm2d(32, eps=1e-05, momentum=0.1, affine=True, track_running_stats=True)\n",
       "  (conv2): Conv2d(32, 64, kernel_size=(3, 3), stride=(1, 1), padding=(1, 1))\n",
       "  (bn2): BatchNorm2d(64, eps=1e-05, momentum=0.1, affine=True, track_running_stats=True)\n",
       "  (conv3): Conv2d(64, 128, kernel_size=(3, 3), stride=(1, 1), padding=(1, 1))\n",
       "  (bn3): BatchNorm2d(128, eps=1e-05, momentum=0.1, affine=True, track_running_stats=True)\n",
       "  (fc1): Linear(in_features=32000, out_features=128, bias=True)\n",
       "  (fcbn1): BatchNorm1d(128, eps=1e-05, momentum=0.1, affine=True, track_running_stats=True)\n",
       "  (fc2): Linear(in_features=128, out_features=4, bias=True)\n",
       ")>"
      ]
     },
     "execution_count": 46,
     "metadata": {},
     "output_type": "execute_result"
    }
   ],
   "source": [
    "net.parameters"
   ]
  },
  {
   "cell_type": "code",
   "execution_count": 21,
   "metadata": {},
   "outputs": [
    {
     "data": {
      "text/plain": [
       "0.28893905878067017"
      ]
     },
     "execution_count": 21,
     "metadata": {},
     "output_type": "execute_result"
    }
   ],
   "source": [
    "# Final testing acc\n",
    "x_test_tensor = torch.tensor(X_test).float()\n",
    "y_test_tensor = torch.tensor(y_test - 769, dtype=torch.int64)\n",
    "\n",
    "output_test = net(x_test_tensor)\n",
    "ps = torch.exp(output_test)\n",
    "equality = (y_test_tensor.data == ps.max(dim=1)[1])\n",
    "equality.type(torch.FloatTensor).mean().item()"
   ]
  },
  {
   "cell_type": "markdown",
   "metadata": {},
   "source": [
    "best testing acc should be ~54%"
   ]
  }
 ],
 "metadata": {
  "kernelspec": {
   "display_name": "Python 3",
   "language": "python",
   "name": "python3"
  },
  "language_info": {
   "codemirror_mode": {
    "name": "ipython",
    "version": 3
   },
   "file_extension": ".py",
   "mimetype": "text/x-python",
   "name": "python",
   "nbconvert_exporter": "python",
   "pygments_lexer": "ipython3",
   "version": "3.8.5"
  }
 },
 "nbformat": 4,
 "nbformat_minor": 2
}
