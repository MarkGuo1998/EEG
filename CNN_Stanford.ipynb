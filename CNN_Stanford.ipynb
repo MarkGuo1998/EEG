{
  "nbformat": 4,
  "nbformat_minor": 0,
  "metadata": {
    "kernelspec": {
      "display_name": "Python 3",
      "language": "python",
      "name": "python3"
    },
    "language_info": {
      "codemirror_mode": {
        "name": "ipython",
        "version": 3
      },
      "file_extension": ".py",
      "mimetype": "text/x-python",
      "name": "python",
      "nbconvert_exporter": "python",
      "pygments_lexer": "ipython3",
      "version": "3.8.5"
    },
    "colab": {
      "name": "CNN Stanford.ipynb",
      "provenance": [],
      "collapsed_sections": []
    },
    "accelerator": "GPU"
  },
  "cells": [
    {
      "cell_type": "markdown",
      "metadata": {
        "id": "L9jQl-GrSdgJ"
      },
      "source": [
        "Next step:\n",
        "\n",
        "Fix RNN\n",
        "\n",
        "Test dense networks\n",
        "\n",
        "ResNet?\n",
        "\n"
      ]
    },
    {
      "cell_type": "markdown",
      "metadata": {
        "id": "juANUWN9I4c5"
      },
      "source": [
        "### Utility / Load data\n",
        "When you are running this notebook on colab - run the first 2 cells (remenber to change the path in cell 2) to mount your data to the right path, so that the notebook could locate it. \n",
        "\n",
        "If you are running this notebook on your local PC, there is no need to run the first 2 cells."
      ]
    },
    {
      "cell_type": "code",
      "metadata": {
        "colab": {
          "base_uri": "https://localhost:8080/"
        },
        "id": "PxZe1lCfI4-K",
        "outputId": "c63941bf-209d-4f2f-93d7-e2ab53fe69a8"
      },
      "source": [
        "from google.colab import drive\n",
        "drive.mount('/content/gdrive')"
      ],
      "execution_count": 1,
      "outputs": [
        {
          "output_type": "stream",
          "text": [
            "Mounted at /content/gdrive\n"
          ],
          "name": "stdout"
        }
      ]
    },
    {
      "cell_type": "code",
      "metadata": {
        "colab": {
          "base_uri": "https://localhost:8080/"
        },
        "id": "09zsa41vJI0W",
        "outputId": "e98ea131-5422-4874-ead5-cca8001742d5"
      },
      "source": [
        "import sys\n",
        "sys.path.append('/gdrive/MyDrive/EE247/')\n",
        "%cd gdrive/MyDrive/EE247"
      ],
      "execution_count": 2,
      "outputs": [
        {
          "output_type": "stream",
          "text": [
            "/content/gdrive/MyDrive/EE247\n"
          ],
          "name": "stdout"
        }
      ]
    },
    {
      "cell_type": "code",
      "metadata": {
        "id": "hvpyWP8oI4c7"
      },
      "source": [
        "import numpy as np\n",
        "\n",
        "X_test = np.load(\"X_test.npy\")\n",
        "y_test = np.load(\"y_test.npy\")\n",
        "person_train_valid = np.load(\"person_train_valid.npy\")\n",
        "X_train_valid = np.load(\"X_train_valid.npy\")\n",
        "y_train_valid = np.load(\"y_train_valid.npy\")\n",
        "person_test = np.load(\"person_test.npy\")"
      ],
      "execution_count": 3,
      "outputs": []
    },
    {
      "cell_type": "markdown",
      "metadata": {
        "id": "OvBAsdQgI4c8"
      },
      "source": [
        "### Shape of data"
      ]
    },
    {
      "cell_type": "code",
      "metadata": {
        "colab": {
          "base_uri": "https://localhost:8080/"
        },
        "id": "5sgyxUK0I4c9",
        "outputId": "7f2022a8-dd02-454c-89f8-f4c39c0cac19"
      },
      "source": [
        "print ('Training/Valid data shape: {}'.format(X_train_valid.shape))\n",
        "print ('Test data shape: {}'.format(X_test.shape))\n",
        "print ('Training/Valid target shape: {}'.format(y_train_valid.shape))\n",
        "print ('Test target shape: {}'.format(y_test.shape))\n",
        "print ('Person train/valid shape: {}'.format(person_train_valid.shape))\n",
        "print ('Person test shape: {}'.format(person_test.shape))"
      ],
      "execution_count": 4,
      "outputs": [
        {
          "output_type": "stream",
          "text": [
            "Training/Valid data shape: (2115, 22, 1000)\n",
            "Test data shape: (443, 22, 1000)\n",
            "Training/Valid target shape: (2115,)\n",
            "Test target shape: (443,)\n",
            "Person train/valid shape: (2115, 1)\n",
            "Person test shape: (443, 1)\n"
          ],
          "name": "stdout"
        }
      ]
    },
    {
      "cell_type": "markdown",
      "metadata": {
        "id": "WSsohTEAI4c-"
      },
      "source": [
        "### Visualization"
      ]
    },
    {
      "cell_type": "code",
      "metadata": {
        "id": "qin6G1p1I4c-"
      },
      "source": [
        "import matplotlib.pyplot as plt"
      ],
      "execution_count": 5,
      "outputs": []
    },
    {
      "cell_type": "code",
      "metadata": {
        "colab": {
          "base_uri": "https://localhost:8080/",
          "height": 283
        },
        "id": "a8YhCFETI4c-",
        "outputId": "3e33abb8-641e-4f2e-88c0-0bab574ed133"
      },
      "source": [
        "fig=plt.figure(figsize=(12,8), dpi= 100, facecolor='w', edgecolor='k')\n",
        "# for i in range(2115):\n",
        "\n",
        "i=3\n",
        "plt.imshow(X_train_valid[i, :, :100])\n",
        "print(y_train_valid[i])"
      ],
      "execution_count": 6,
      "outputs": [
        {
          "output_type": "stream",
          "text": [
            "769\n"
          ],
          "name": "stdout"
        },
        {
          "output_type": "display_data",
          "data": {
            "image/png": "[encoded data removed]",
            "text/plain": [
              "<Figure size 1200x800 with 1 Axes>"
            ]
          },
          "metadata": {
            "tags": []
          }
        }
      ]
    },
    {
      "cell_type": "markdown",
      "metadata": {
        "id": "bMJp1xKCI4c_"
      },
      "source": [
        "### Model"
      ]
    },
    {
      "cell_type": "code",
      "metadata": {
        "id": "Nzf_kPhVI4dA"
      },
      "source": [
        "import os\n",
        "os.environ['KMP_DUPLICATE_LIB_OK']='True'\n",
        "import torch\n",
        "import torch.nn as nn\n",
        "import torch.nn.functional as F"
      ],
      "execution_count": 7,
      "outputs": []
    },
    {
      "cell_type": "markdown",
      "metadata": {
        "id": "jxFvccmqN5Mz"
      },
      "source": [
        "### Check if CUDA is avaliable"
      ]
    },
    {
      "cell_type": "code",
      "metadata": {
        "colab": {
          "base_uri": "https://localhost:8080/"
        },
        "id": "VCIG9EyiLT8R",
        "outputId": "44e9fbcc-0e9d-4005-94c5-99d48948abe5"
      },
      "source": [
        "use_cuda = torch.cuda.is_available()\n",
        "use_cuda"
      ],
      "execution_count": 8,
      "outputs": [
        {
          "output_type": "execute_result",
          "data": {
            "text/plain": [
              "True"
            ]
          },
          "metadata": {
            "tags": []
          },
          "execution_count": 8
        }
      ]
    },
    {
      "cell_type": "markdown",
      "metadata": {
        "id": "Mkh7vH6EI4dA"
      },
      "source": [
        "### Model\n",
        "\n",
        "Options:\n",
        "\n",
        "\"conv\": fixed, so that the shape/dimensions match our dataset\n",
        "\n",
        "\"deepconv\": fixed\n",
        "\n",
        "\"best\": fixed (this means the best CNN model till now; probably also the best model overall)\n",
        "\n",
        "\"reg\" and \"base\": fixed, BUT I haven't tested them out\n",
        "\n",
        "other models: not fixed"
      ]
    },
    {
      "cell_type": "code",
      "metadata": {
        "id": "O5D6VhdbI4dA"
      },
      "source": [
        "class Net(nn.Module):\n",
        "\n",
        "    def __init__(self, params):\n",
        "        \"\"\"\n",
        "        We define a network based on the parameter to predict whether the slice is a seizure. The current models are:\n",
        "        - base: flatten the matrix and apply a neural net with one hidden layer\n",
        "        - conv: apply a standard vision neural net of 3 convolutional layers (filters, batch norm, pool, relu)\n",
        "                and then flatten and apply two fully connected layers with batch norm and dropout\n",
        "        - lstm: a\n",
        "\n",
        "        Args:\n",
        "            params: (Params) contains num_channels\n",
        "        \"\"\"\n",
        "        super(Net, self).__init__()\n",
        "        self.type = params[\"type\"]\n",
        "\n",
        "        if self.type == \"reg\":\n",
        "            self.fc = nn.Linear(22 * 1000, 4)\n",
        "\n",
        "        if self.type == \"conv\":\n",
        "            self.num_channels = params[\"num_channels\"]\n",
        "            # each of the convolution layers below have the arguments (input_channels, output_channels, filter_size,\n",
        "            # stride, padding). We also include batch normalization layers that help stabilise training.\n",
        "            self.conv1 = nn.Conv2d(1, self.num_channels, 3, stride=1, padding=1)\n",
        "            self.bn1 = nn.BatchNorm2d(self.num_channels)\n",
        "            self.conv2 = nn.Conv2d(self.num_channels, self.num_channels*2, 3, stride=1, padding=1)\n",
        "            self.bn2 = nn.BatchNorm2d(self.num_channels*2)\n",
        "            self.conv3 = nn.Conv2d(self.num_channels*2, self.num_channels*4, 3, stride=1, padding=1)\n",
        "            self.bn3 = nn.BatchNorm2d(self.num_channels*4)\n",
        "\n",
        "            # 2 fully connected layers to transform the output of the convolution layers to the final output\n",
        "            self.fc1 = nn.Linear(125*2*self.num_channels*4, self.num_channels*4)\n",
        "            self.fcbn1 = nn.BatchNorm1d(self.num_channels*4)\n",
        "            self.fc2 = nn.Linear(self.num_channels*4, 4)\n",
        "            self.dropout_rate = params[\"dropout_rate\"]\n",
        "        \n",
        "        elif self.type == \"base\":\n",
        "            # simple base model\n",
        "            self.fc_1 = nn.Linear(22 * 1000, 1000)\n",
        "            self.fc_2 = nn.Linear(1000, 30)\n",
        "            self.fc_3 = nn.Linear(30, 4)\n",
        "\n",
        "        elif self.type == \"lstm\":\n",
        "            # input_size, hidden_size, num_layers\n",
        "            self.lstm = nn.LSTM(22, 20, 2)\n",
        "            # the fully connected layer transforms the output to give the final output layer\n",
        "            self.fc = nn.Linear(20, 1)\n",
        "            if params.bidirectional == 1:\n",
        "                self.lstm = nn.LSTM(25, 20, 2, bidirectional=True)\n",
        "                self.fc = nn.Linear(40, 4)\n",
        "\n",
        "        if self.type == \"deepconv\":\n",
        "            # in_channels, out_channels, kernel_size\n",
        "            self.conv1 = nn.Conv2d(1, 25, (1,10), stride=1, padding=(0, 1))\n",
        "            self.conv2 = nn.Conv2d(25, 50, (1,10), stride=1, padding=(0, 1))\n",
        "            self.conv3 = nn.Conv2d(50, 100, (1,10), stride=1, padding=(0, 1))\n",
        "            self.conv4 = nn.Conv2d(100, 200, (1,10), stride=1, padding=(0, 1))\n",
        "            self.fc1 = nn.Linear(200*8*22, 400)\n",
        "            self.fcbn1 = nn.BatchNorm1d(400)\n",
        "            self.fc2 = nn.Linear(400, 4)\n",
        "            self.dropout_rate = params[\"dropout_rate\"]\n",
        "\n",
        "        if self.type == \"deepconv_nodo\":\n",
        "            # in_channels, out_channels, kernel_size\n",
        "            self.conv1 = nn.Conv2d(1, 25, (1,10), stride=1, padding=(0, 1))\n",
        "            self.conv2 = nn.Conv2d(25, 50, (1,10), stride=1, padding=(0, 1))\n",
        "            self.conv3 = nn.Conv2d(50, 100, (1,10), stride=1, padding=(0, 1))\n",
        "            self.conv4 = nn.Conv2d(100, 200, (1,10), stride=1, padding=(0, 1))\n",
        "            self.fc1 = nn.Linear(200*8*22, 400)\n",
        "            self.fcbn1 = nn.BatchNorm1d(400)\n",
        "            self.fc2 = nn.Linear(400, 4)\n",
        "\n",
        "        if self.type == \"deeplstm\":\n",
        "            self.lstm = nn.LSTM(25, 20, 2, bidirectional=True)\n",
        "            self.fc1 = nn.Linear(40, 10)\n",
        "            self.fcbn1 = nn.BatchNorm1d(10)\n",
        "            self.fc2 = nn.Linear(10, 1)\n",
        "\n",
        "        if self.type == \"best\":\n",
        "            self.conv1 = nn.Conv1d(1, 1, [1, 10]) \n",
        "            self.conv2 = nn.Conv1d(1, 1, [1, 10]) \n",
        "            self.conv3 = nn.Conv1d(1, 1, [1, 10]) \n",
        "            self.fc2 = nn.Linear(32*22, 4)\n",
        "            self.m1 = nn.BatchNorm2d(1)\n",
        "            self.m2 = nn.BatchNorm2d(1)\n",
        "            self.m3 = nn.BatchNorm2d(1)\n",
        "            \n",
        "\n",
        "    def forward(self, s):\n",
        "        \"\"\"\n",
        "        This function defines how we use the components of our network to operate on an input batch.\n",
        "        Args:\n",
        "            s: (Variable) contains a batch of images, of dimension batch_size x 2000 x 5.\n",
        "\n",
        "        Returns:\n",
        "            out: (Variable) dimension batch_size indicating probability of a seizure.\n",
        "\n",
        "        Note: the dimensions after each step are provided\n",
        "        \"\"\"\n",
        "        if (self.type == \"reg\"):\n",
        "            s = s.view(-1, 22 * 1000)\n",
        "            s = self.fc(s)\n",
        "            return s\n",
        "\n",
        "        if (self.type == \"conv\"):\n",
        "            # we apply the convolution layers, followed by batch normalisation, maxpool and relu x 3\n",
        "            s = s.unsqueeze(1)                             # -> batch_size x 1 x 22 x 1000\n",
        "            s = self.bn1(self.conv1(s))                    # batch_size x num_channels x 22 x 1000\n",
        "            s = F.relu(F.max_pool2d(s, 2))                 # batch_size x num_channels x 11 x 500\n",
        "            s = self.bn2(self.conv2(s))                    # batch_size x num_channels*2 x 11 x 500 \n",
        "            s = F.relu(F.max_pool2d(s, 2))                 # batch_size x num_channels*2 x 5 x 250 \n",
        "            s = self.bn3(self.conv3(s))                    # batch_size x num_channels*4 x 250 x 5\n",
        "            s = F.relu(F.max_pool2d(s, 2))                 # batch_size x num_channels*4 x 125 x 2\n",
        "\n",
        "            # flatten the output for each image\n",
        "            s = s.view(-1, 125*2*self.num_channels*4)           # batch_size x 125*2*num_channels*4\n",
        "            # apply 2 fully connected layers with dropout\n",
        "            s = F.dropout(F.relu(self.fcbn1(self.fc1(s))),\n",
        "                p=self.dropout_rate, training=self.training)    # batch_size x self.num_channels*4\n",
        "            s = self.fc2(s)                                     # batch_size x 4\n",
        "            return s\n",
        "\n",
        "        elif (self.type == \"base\"):\n",
        "            s = s.view(-1, 22 * 1000)\n",
        "            s = F.relu(self.fc_1(s))\n",
        "            s = F.relu(self.fc_2(s))\n",
        "            s = self.fc_3(s)\n",
        "            return s\n",
        "\n",
        "        elif (self.type == \"lstm\"):\n",
        "            s = s.transpose(0, 1)\n",
        "            # Forward propagate RNN\n",
        "            out, _ = self.lstm(s)  \n",
        "            # Decode hidden state of last time step (seq_len, batch, hidden_size * num_directions)\n",
        "            last_out = out[-1,:,:]\n",
        "            out = self.fc(last_out)  \n",
        "            return F.sigmoid(out)\n",
        "\n",
        "        elif (self.type == \"deeplstm\"):\n",
        "            s = s.transpose(0, 1)\n",
        "            # Forward propagate RNN\n",
        "            out, hidden = self.lstm(s)  \n",
        "            # Decode hidden state of last time step (seq_len, batch, hidden_size * num_directions)\n",
        "            s = F.relu(F.max_pool1d(hidden[0], 2))\n",
        "            s = s.transpose(0, 1)\n",
        "            s = s.contiguous()\n",
        "            s = s.view(-1, 4 * 10)\n",
        "            s = F.relu(self.fcbn1(self.fc1(s)))\n",
        "            s = self.fc2(s)  \n",
        "            return F.sigmoid(s)\n",
        "\n",
        "        elif (self.type == \"deepconv\"):\n",
        "            s = s.unsqueeze(1)                                   # -> batch_size x 1 x 22 x 1000\n",
        "            s = F.elu(self.conv1(s))                             # batch_size x 25 x 22 x 1000\n",
        "            s = F.max_pool2d(s, (1, 3))                          # batch_size x 25 x 22 x 331\n",
        "            s = F.elu(self.conv2(s))                             # batch_size x 50 x 22 x 331 \n",
        "            s = F.max_pool2d(s, (1, 3))                          # batch_size x 50 x 22 x 108 \n",
        "            s = F.elu(self.conv3(s))                             # batch_size x 100 x 22 x 108\n",
        "            s = F.max_pool2d(s, (1, 3))                          # batch_size x 100 x 22 x 33\n",
        "            s = F.elu(self.conv4(s))                             # batch_size x 200 x 22 x 33 \n",
        "            s = F.max_pool2d(s, (1, 3))                          # batch_size x 200 x 22 x 8 \n",
        "            s = s.contiguous()\n",
        "#             print(s.shape)\n",
        "            s = s.view(-1, 200*8*22)\n",
        "            s = F.dropout(F.relu(self.fcbn1(self.fc1(s))),p=self.dropout_rate, training=self.training)\n",
        "            s = self.fc2(s)\n",
        "            return s\n",
        "\n",
        "        elif (self.type == \"deepconv_nodo\"):\n",
        "            s = s.unsqueeze(1)\n",
        "            s = F.relu(self.conv1(s))\n",
        "            s = F.max_pool2d(s, (1, 3))\n",
        "            s = F.relu(self.conv2(s))\n",
        "            s = F.max_pool2d(s, (1, 3))\n",
        "            s = F.relu(self.conv3(s))\n",
        "            s = F.max_pool2d(s, (1, 3))\n",
        "            s = F.relu(self.conv4(s))\n",
        "            s = F.max_pool2d(s, (1, 3))\n",
        "            s = s.contiguous()\n",
        "            s = s.view(-1, 200*8*22)\n",
        "            s = F.relu(self.fcbn1(self.fc1(s)))\n",
        "            s = self.fc2(s)\n",
        "            return s\n",
        "\n",
        "        elif self.type == \"best\":\n",
        "            s = s.unsqueeze(1)\n",
        "            s = F.max_pool2d(F.elu(self.conv1(self.m1(s))), (1, 3)) # 1000 => 991 => 330\n",
        "            s = F.max_pool2d(F.elu(self.conv2(self.m2(s))), (1, 3)) # 330 => 321 => 107\n",
        "            s = F.max_pool2d(F.elu(self.conv3(self.m3(s))), (1, 3)) # 107 => 98 => 32\n",
        "            s = s.view(-1, 32 * 22)\n",
        "            s = self.fc2(s)\n",
        "            return s\n",
        "\n",
        "\n",
        "\n",
        "\n",
        "# def f1score(outputs, labels):\n",
        "#     \"\"\"\n",
        "#     Compute the f1 score, given the outputs and labels for all slices.\n",
        "\n",
        "#     Args:\n",
        "#         outputs: (np.ndarray) dimension batch_size - sigmoid output of the model\n",
        "#         labels: (np.ndarray) dimension batch_size - each element is 0 (nonseizure) or 1 (seizure)\n",
        "\n",
        "#     Returns: (float) f1 score in [0,1]\n",
        "#     \"\"\"\n",
        "#     outputs_round = np.rint(outputs)\n",
        "#     labels = labels.reshape(outputs_round.shape)\n",
        "#     numerator = np.sum(np.logical_and(outputs_round == 1, outputs_round == labels))\n",
        "#     precision_denom = max(outputs_round.sum(), 1e-8)\n",
        "#     recall_denom = max(labels.sum(), 1e-8)\n",
        "#     precision = 1.0 * numerator / precision_denom\n",
        "#     recall = 1.0 * numerator / recall_denom\n",
        "#     if (precision + recall == 0):\n",
        "#         return 0\n",
        "#     f1 = 2 * (precision * recall) / (precision + recall)\n",
        "#     # import ipdb; ipdb.set_trace()\n",
        "#     return f1\n",
        "\n",
        "\n",
        "# maintain all metrics required in this dictionary- these are used in the training and evaluation loops\n",
        "# metrics = {\n",
        "#     'accuracy': accuracy,\n",
        "#     'f1': f1score,\n",
        "# }"
      ],
      "execution_count": 19,
      "outputs": []
    },
    {
      "cell_type": "markdown",
      "metadata": {
        "id": "Lq8VykA0O1sE"
      },
      "source": [
        "Definition of 2 methods: loss and accuracy"
      ]
    },
    {
      "cell_type": "code",
      "metadata": {
        "id": "tcv_-qaVI4dB"
      },
      "source": [
        "def loss_fn(outputs, labels):\n",
        "    \"\"\"\n",
        "    Compute the cross entropy loss given outputs and labels.\n",
        "\n",
        "    Args:\n",
        "        outputs: (Variable) dimension batch_size - output of the model\n",
        "        labels: (Variable) dimension batch_size, where each element is 0 or 1\n",
        "\n",
        "    Returns:\n",
        "        loss (Variable): cross entropy loss for all slices in the batch\n",
        "    \"\"\"\n",
        "    loss = nn.CrossEntropyLoss()\n",
        "    out = loss(outputs, labels)\n",
        "    return out\n",
        "\n",
        "\n",
        "def accuracy(outputs, labels):\n",
        "    \"\"\"\n",
        "    Compute the accuracy, given the outputs and labels for all slices.\n",
        "\n",
        "    Args:\n",
        "        outputs: (Variable) dimension batch_size - sigmoid output of the model\n",
        "        labels: (Variable) dimension batch_size - each element is 0 (nonseizure) or 1 (seizure)\n",
        "\n",
        "    Returns: (float) accuracy in [0,1]\n",
        "    \"\"\"\n",
        "    s = torch.exp(outputs)\n",
        "    accuracy = (labels == s.max(dim=1)[1]).type(torch.FloatTensor).mean().item()\n",
        "    return accuracy"
      ],
      "execution_count": 10,
      "outputs": []
    },
    {
      "cell_type": "code",
      "metadata": {
        "id": "_mFon651I4dC"
      },
      "source": [
        "# change data / label into tensor\n",
        "\n",
        "x = torch.tensor(X_train_valid).float()\n",
        "y = torch.tensor(y_train_valid - 769, dtype=torch.int64)\n",
        "\n",
        "x_test_tensor = torch.tensor(X_test).float()\n",
        "y_test_tensor = torch.tensor(y_test - 769, dtype=torch.int64)\n",
        "\n",
        "\n",
        "# if you want onehot encode:\n",
        "\n",
        "# y_onehot = torch.FloatTensor(2115, 4)\n",
        "# y_onehot.zero_()\n",
        "# y_onehot.scatter_(1, y.view(-1, 1), 1)"
      ],
      "execution_count": 11,
      "outputs": []
    },
    {
      "cell_type": "markdown",
      "metadata": {
        "id": "uDxqGuivI4dD"
      },
      "source": [
        "### Training process w/ Adam"
      ]
    },
    {
      "cell_type": "code",
      "metadata": {
        "id": "Y5rdfNnhI4dD"
      },
      "source": [
        "# params = {\"type\": \"conv\", \"num_channels\": 32, \"dropout_rate\": 0.8}\n",
        "# params = {\"type\": \"deepconv\", \"dropout_rate\": 0.5}\n",
        "params = {\"type\": \"best\"}\n",
        "\n",
        "if use_cuda:\n",
        "  net = Net(params).cuda()\n",
        "else:\n",
        "  net = Net(params)"
      ],
      "execution_count": 27,
      "outputs": []
    },
    {
      "cell_type": "markdown",
      "metadata": {
        "id": "9CEFjxjQRBSv"
      },
      "source": [
        "With deeper Conv network you should set learning rate ~ $10^{-5}$. With shallow network (like the \"*best*\" network), it could be higher like $10^{-4}$."
      ]
    },
    {
      "cell_type": "code",
      "metadata": {
        "scrolled": true,
        "colab": {
          "base_uri": "https://localhost:8080/"
        },
        "id": "GkYtZMaNI4dD",
        "outputId": "d3cd219f-1bcd-45a0-9431-d41ac752a72b"
      },
      "source": [
        "import torch.optim as optim\n",
        "\n",
        "\n",
        "# criterion = nn.CrossEntropyLoss()\n",
        "\n",
        "optimizer = optim.Adam(net.parameters(), lr=1.5e-4)\n",
        "\n",
        "\n",
        "n_epochs = 100\n",
        "batch_size = 15 # Note that 2115 = 31 * 70\n",
        "lam = 1e-2\n",
        "print_every = 10\n",
        "\n",
        "torch.cuda.empty_cache()\n",
        "\n",
        "if use_cuda:\n",
        "    x_test_tensor = x_test_tensor.cuda()\n",
        "    y_test_tensor = y_test_tensor.cuda()\n",
        "\n",
        "for epoch in range(n_epochs):\n",
        "\n",
        "    permutation = torch.randperm(x.size()[0])\n",
        "    for i in range(0, x.size()[0], batch_size):\n",
        "        \n",
        "        optimizer.zero_grad()\n",
        "\n",
        "        indices = permutation[i:i+batch_size]\n",
        "        batch_x, batch_y = x[indices], y[indices]\n",
        "\n",
        "        if use_cuda:\n",
        "          batch_x = batch_x.cuda()\n",
        "          batch_y = batch_y.cuda()\n",
        "\n",
        "        outputs = net.forward(batch_x)\n",
        "        loss = loss_fn(outputs, batch_y)\n",
        "\n",
        "        loss.backward()\n",
        "        optimizer.step()\n",
        "        \n",
        "    if epoch % print_every == 0:\n",
        "        print(\"epoch %d,  batch loss: %.4f\" %(epoch, loss))\n",
        "\n",
        "        output_test = net(x_test_tensor)\n",
        "        acc = accuracy(output_test, y_test_tensor)\n",
        "        print(\"  test acc: %.4f\" %acc)"
      ],
      "execution_count": 28,
      "outputs": [
        {
          "output_type": "stream",
          "text": [
            "epoch 0,  batch loss: 1.3085\n",
            "  test acc: 0.3115\n",
            "epoch 10,  batch loss: 1.1277\n",
            "  test acc: 0.4108\n",
            "epoch 20,  batch loss: 1.1945\n",
            "  test acc: 0.4515\n",
            "epoch 30,  batch loss: 1.1657\n",
            "  test acc: 0.5079\n",
            "epoch 40,  batch loss: 1.1735\n",
            "  test acc: 0.5102\n",
            "epoch 50,  batch loss: 0.8154\n",
            "  test acc: 0.5282\n",
            "epoch 60,  batch loss: 0.5579\n",
            "  test acc: 0.5260\n",
            "epoch 70,  batch loss: 0.7379\n",
            "  test acc: 0.5034\n",
            "epoch 80,  batch loss: 0.7986\n",
            "  test acc: 0.5485\n",
            "epoch 90,  batch loss: 0.6794\n",
            "  test acc: 0.5372\n"
          ],
          "name": "stdout"
        }
      ]
    },
    {
      "cell_type": "code",
      "metadata": {
        "colab": {
          "base_uri": "https://localhost:8080/"
        },
        "id": "y-QwueLCI4dH",
        "outputId": "6cfc010c-6fe6-4c0d-a4ed-2fe0fb897408"
      },
      "source": [
        "if use_cuda:\n",
        "  x_test_tensor = x_test_tensor.cuda()\n",
        "  y_test_tensor = y_test_tensor.cuda()\n",
        "\n",
        "output_test = net(x_test_tensor)\n",
        "acc = accuracy(output_test, y_test_tensor)\n",
        "print(\"  test acc: %.4f\" %acc)"
      ],
      "execution_count": 29,
      "outputs": [
        {
          "output_type": "stream",
          "text": [
            "  test acc: 0.5418\n"
          ],
          "name": "stdout"
        }
      ]
    },
    {
      "cell_type": "markdown",
      "metadata": {
        "id": "ALGly6TwI4dI"
      },
      "source": [
        "best testing acc should be ~54%"
      ]
    }
  ]
}